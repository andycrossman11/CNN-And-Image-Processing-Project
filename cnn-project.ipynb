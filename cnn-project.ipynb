{
 "cells": [
  {
   "cell_type": "code",
   "execution_count": 8,
   "metadata": {
    "_cell_guid": "b1076dfc-b9ad-4769-8c92-a6c4dae69d19",
    "_uuid": "8f2839f25d086af736a60e9eeb907d3b93b6e0e5",
    "execution": {
     "iopub.execute_input": "2024-09-17T01:43:24.899361Z",
     "iopub.status.busy": "2024-09-17T01:43:24.899053Z",
     "iopub.status.idle": "2024-09-17T01:44:21.942255Z",
     "shell.execute_reply": "2024-09-17T01:44:21.941475Z",
     "shell.execute_reply.started": "2024-09-17T01:43:24.899334Z"
    }
   },
   "outputs": [],
   "source": [
    "# This Python 3 environment comes with many helpful analytics libraries installed\n",
    "# It is defined by the kaggle/python Docker image: https://github.com/kaggle/docker-python\n",
    "# For example, here's several helpful packages to load\n",
    "\n",
    "import numpy as np # linear algebrals\n",
    "\n",
    "import pandas as pd # data processing, CSV file I/O (e.g. pd.read_csv)\n",
    "\n",
    "# Input data files are available in the read-only \"../input/\" directory\n",
    "# For example, running this (by clicking run or pressing Shift+Enter) will list all files under the input directory\n",
    "\n",
    "import os\n",
    "for dirname, _, filenames in os.walk('/kaggle/input'):\n",
    "    for filename in filenames:\n",
    "        break\n",
    "        print(os.path.join(dirname, filename))\n",
    "        \n",
    "# You can write up to 20GB to the current directory (/kaggle/working/) that gets preserved as output when you create a version using \"Save & Run All\" \n",
    "# You can also write temporary files to /kaggle/temp/, but they won't be saved outside of the current session"
   ]
  },
  {
   "cell_type": "markdown",
   "metadata": {},
   "source": [
    "## Initial Labels Inspection"
   ]
  },
  {
   "cell_type": "code",
   "execution_count": 9,
   "metadata": {
    "execution": {
     "iopub.execute_input": "2024-09-17T01:44:45.679879Z",
     "iopub.status.busy": "2024-09-17T01:44:45.679192Z",
     "iopub.status.idle": "2024-09-17T01:44:45.922175Z",
     "shell.execute_reply": "2024-09-17T01:44:45.921242Z",
     "shell.execute_reply.started": "2024-09-17T01:44:45.679845Z"
    }
   },
   "outputs": [
    {
     "data": {
      "text/html": [
       "<div>\n",
       "<style scoped>\n",
       "    .dataframe tbody tr th:only-of-type {\n",
       "        vertical-align: middle;\n",
       "    }\n",
       "\n",
       "    .dataframe tbody tr th {\n",
       "        vertical-align: top;\n",
       "    }\n",
       "\n",
       "    .dataframe thead th {\n",
       "        text-align: right;\n",
       "    }\n",
       "</style>\n",
       "<table border=\"1\" class=\"dataframe\">\n",
       "  <thead>\n",
       "    <tr style=\"text-align: right;\">\n",
       "      <th></th>\n",
       "      <th>id</th>\n",
       "      <th>label</th>\n",
       "    </tr>\n",
       "  </thead>\n",
       "  <tbody>\n",
       "    <tr>\n",
       "      <th>0</th>\n",
       "      <td>f38a6374c348f90b587e046aac6079959adf3835</td>\n",
       "      <td>0</td>\n",
       "    </tr>\n",
       "    <tr>\n",
       "      <th>1</th>\n",
       "      <td>c18f2d887b7ae4f6742ee445113fa1aef383ed77</td>\n",
       "      <td>1</td>\n",
       "    </tr>\n",
       "    <tr>\n",
       "      <th>2</th>\n",
       "      <td>755db6279dae599ebb4d39a9123cce439965282d</td>\n",
       "      <td>0</td>\n",
       "    </tr>\n",
       "    <tr>\n",
       "      <th>3</th>\n",
       "      <td>bc3f0c64fb968ff4a8bd33af6971ecae77c75e08</td>\n",
       "      <td>0</td>\n",
       "    </tr>\n",
       "    <tr>\n",
       "      <th>4</th>\n",
       "      <td>068aba587a4950175d04c680d38943fd488d6a9d</td>\n",
       "      <td>0</td>\n",
       "    </tr>\n",
       "  </tbody>\n",
       "</table>\n",
       "</div>"
      ],
      "text/plain": [
       "                                         id  label\n",
       "0  f38a6374c348f90b587e046aac6079959adf3835      0\n",
       "1  c18f2d887b7ae4f6742ee445113fa1aef383ed77      1\n",
       "2  755db6279dae599ebb4d39a9123cce439965282d      0\n",
       "3  bc3f0c64fb968ff4a8bd33af6971ecae77c75e08      0\n",
       "4  068aba587a4950175d04c680d38943fd488d6a9d      0"
      ]
     },
     "execution_count": 9,
     "metadata": {},
     "output_type": "execute_result"
    }
   ],
   "source": [
    "training_labels_df = pd.read_csv('/kaggle/input/histopathologic-cancer-detection/train_labels.csv')\n",
    "\n",
    "training_labels_df.head(5)"
   ]
  },
  {
   "cell_type": "code",
   "execution_count": 10,
   "metadata": {
    "execution": {
     "iopub.execute_input": "2024-09-17T01:44:46.521934Z",
     "iopub.status.busy": "2024-09-17T01:44:46.521164Z",
     "iopub.status.idle": "2024-09-17T01:44:46.708643Z",
     "shell.execute_reply": "2024-09-17T01:44:46.707678Z",
     "shell.execute_reply.started": "2024-09-17T01:44:46.521899Z"
    }
   },
   "outputs": [
    {
     "data": {
      "image/png": "[encoded data removed]",
      "text/plain": [
       "<Figure size 640x480 with 1 Axes>"
      ]
     },
     "metadata": {},
     "output_type": "display_data"
    }
   ],
   "source": [
    "import matplotlib.pyplot as plt\n",
    "\n",
    "plt.hist(training_labels_df['label'], bins=[-.5, .5, 1.5], edgecolor='black', align='mid')\n",
    "plt.xticks([0, 1], ['Benign', 'Malignant']) \n",
    "plt.xlabel('Class Labels')\n",
    "plt.ylabel('Frequency')\n",
    "plt.title('Distribution of Labels')\n",
    "plt.show()"
   ]
  },
  {
   "cell_type": "markdown",
   "metadata": {},
   "source": [
    "## Label Inspection Findings\n",
    "    - The data is imbalanced as about 30% more benign samples are in training set than malignant samples.\n",
    "    - This will need to be accounted for when training to avoid a bias towards negative(0) predictions"
   ]
  },
  {
   "cell_type": "markdown",
   "metadata": {},
   "source": [
    "## Inspect Training Images\n",
    "    - Figure out how labels map to images\n",
    "    - Visualize an image"
   ]
  },
  {
   "cell_type": "code",
   "execution_count": 11,
   "metadata": {
    "execution": {
     "iopub.execute_input": "2024-09-17T01:44:48.002095Z",
     "iopub.status.busy": "2024-09-17T01:44:48.001712Z",
     "iopub.status.idle": "2024-09-17T01:44:48.289775Z",
     "shell.execute_reply": "2024-09-17T01:44:48.288790Z",
     "shell.execute_reply.started": "2024-09-17T01:44:48.002065Z"
    }
   },
   "outputs": [
    {
     "name": "stdout",
     "output_type": "stream",
     "text": [
      "/kaggle/input/histopathologic-cancer-detection/train/8e294a0fe82d36c9ae921ef2cc76ed0d0691b90f.tif\n",
      "\n",
      "\n",
      "IMAGE DIMENSIONS:\n",
      "96 x 96 pixel image w/ 3 channels\n"
     ]
    },
    {
     "data": {
      "image/png": "[encoded data removed]",
      "text/plain": [
       "<Figure size 640x480 with 1 Axes>"
      ]
     },
     "metadata": {},
     "output_type": "display_data"
    }
   ],
   "source": [
    "from PIL import Image\n",
    "import os\n",
    "\n",
    "training_root = \"/kaggle/input/histopathologic-cancer-detection/train\"\n",
    "\n",
    "#get random label id - this likely links to an image file\n",
    "image_id = training_labels_df.iloc[25, 0]\n",
    "\n",
    "image_path = os.path.join(training_root, f\"{image_id}.tif\")\n",
    "print(image_path)\n",
    "\n",
    "image = Image.open(image_path)\n",
    "\n",
    "height, width = image.size\n",
    "channels = len(image.getbands())\n",
    "\n",
    "print(f\"\\n\\nIMAGE DIMENSIONS:\\n{height} x {width} pixel image w/ {channels} channels\")\n",
    "\n",
    "plt.imshow(image)\n",
    "plt.show()"
   ]
  },
  {
   "cell_type": "markdown",
   "metadata": {},
   "source": [
    "## Handling ~ 6GB of Image Data\n",
    "    - Pytorch has libraries to handle loading these memory intensive files.\n",
    "    - I have implemented a subclass of Pytorch's Dataset to handling getting an image and its label\n",
    "    - I use Pytorch's DataLoader to batch dataset and optimize performance with:\n",
    "        - num_workers: # of cpu processes\n",
    "        - pini_memory: Retain image data in memory pages so they do not get swapped out\n",
    "        - persistent_workers: retain work processes to avoid reboot time between epochs\n",
    "        - prefetch_factor: prefatch batches will doing forward pass on the current batch\n",
    "    - Handle label imbalance by sampling 80,000 positive and negative samples to train and validate against"
   ]
  },
  {
   "cell_type": "code",
   "execution_count": 56,
   "metadata": {
    "execution": {
     "iopub.execute_input": "2024-09-17T02:36:13.982994Z",
     "iopub.status.busy": "2024-09-17T02:36:13.982604Z",
     "iopub.status.idle": "2024-09-17T02:36:13.989230Z",
     "shell.execute_reply": "2024-09-17T02:36:13.988205Z",
     "shell.execute_reply.started": "2024-09-17T02:36:13.982962Z"
    }
   },
   "outputs": [],
   "source": [
    "from PIL import Image\n",
    "from PIL import Image, ImageDraw\n",
    "import torch\n",
    "from torch.utils.data import Dataset, DataLoader\n",
    "import torchvision.transforms as transforms\n",
    "from torch.optim.lr_scheduler import ReduceLROnPlateau\n",
    "import torch.nn as nn\n",
    "import torch.nn.functional as F\n",
    "from torchvision import utils\n",
    "import torch.optim as optim"
   ]
  },
  {
   "cell_type": "code",
   "execution_count": 13,
   "metadata": {
    "execution": {
     "iopub.execute_input": "2024-09-17T01:45:02.608049Z",
     "iopub.status.busy": "2024-09-17T01:45:02.607286Z",
     "iopub.status.idle": "2024-09-17T01:45:02.615035Z",
     "shell.execute_reply": "2024-09-17T01:45:02.614158Z",
     "shell.execute_reply.started": "2024-09-17T01:45:02.608015Z"
    }
   },
   "outputs": [],
   "source": [
    "class ImageDataset(Dataset):\n",
    "    def __init__(self, df, img_dir, transform=None):\n",
    "        self.df = df\n",
    "        self.img_dir = img_dir\n",
    "        self.transform = transform\n",
    "\n",
    "    def __len__(self):\n",
    "        return len(self.df)\n",
    "\n",
    "    def __getitem__(self, idx):\n",
    "        image_id = self.df.iloc[idx, 0]\n",
    "        img_name = os.path.join(self.img_dir, f\"{image_id}.tif\")\n",
    "        image = Image.open(img_name).convert(\"RGB\")\n",
    "        label = self.df.iloc[idx, 1]\n",
    "\n",
    "        if self.transform:\n",
    "            image = self.transform(image)\n",
    "\n",
    "        return image, label"
   ]
  },
  {
   "cell_type": "code",
   "execution_count": 14,
   "metadata": {
    "execution": {
     "iopub.execute_input": "2024-09-17T01:45:04.652473Z",
     "iopub.status.busy": "2024-09-17T01:45:04.651524Z",
     "iopub.status.idle": "2024-09-17T01:45:04.658238Z",
     "shell.execute_reply": "2024-09-17T01:45:04.657110Z",
     "shell.execute_reply.started": "2024-09-17T01:45:04.652435Z"
    }
   },
   "outputs": [],
   "source": [
    "tr_transform = transforms.Compose([\n",
    "    transforms.RandomHorizontalFlip(p=0.5), \n",
    "    transforms.RandomVerticalFlip(p=0.5),  \n",
    "    transforms.RandomRotation(45),         \n",
    "    transforms.ToTensor()\n",
    "])\n",
    "\n",
    "val_transform = transforms.Compose([\n",
    "    transforms.ToTensor()\n",
    "])"
   ]
  },
  {
   "cell_type": "code",
   "execution_count": 15,
   "metadata": {
    "execution": {
     "iopub.execute_input": "2024-09-17T01:45:05.992035Z",
     "iopub.status.busy": "2024-09-17T01:45:05.991340Z",
     "iopub.status.idle": "2024-09-17T01:45:06.065290Z",
     "shell.execute_reply": "2024-09-17T01:45:06.064155Z",
     "shell.execute_reply.started": "2024-09-17T01:45:05.992000Z"
    }
   },
   "outputs": [],
   "source": [
    "positive_samples = training_labels_df[training_labels_df['label'] == 1]\n",
    "negative_samples = training_labels_df[training_labels_df['label'] == 0]\n",
    "\n",
    "# Sample 80,000 positive and 80,000 negative samples\n",
    "positive_samples = positive_samples.sample(n=80000, random_state=11)\n",
    "negative_samples = negative_samples.sample(n=80000, random_state=11)\n",
    "\n",
    "combined_samples = pd.concat([positive_samples, negative_samples])\n",
    "\n",
    "# Shuffle the combined samples\n",
    "combined_samples = combined_samples.sample(frac=1, random_state=11).reset_index(drop=True)"
   ]
  },
  {
   "cell_type": "code",
   "execution_count": 16,
   "metadata": {
    "execution": {
     "iopub.execute_input": "2024-09-17T01:45:08.501735Z",
     "iopub.status.busy": "2024-09-17T01:45:08.501350Z",
     "iopub.status.idle": "2024-09-17T01:45:08.507099Z",
     "shell.execute_reply": "2024-09-17T01:45:08.506100Z",
     "shell.execute_reply.started": "2024-09-17T01:45:08.501706Z"
    }
   },
   "outputs": [],
   "source": [
    "train_size = int(0.8 * len(combined_samples))\n",
    "train_df = combined_samples[:train_size]\n",
    "val_df = combined_samples[train_size:]"
   ]
  },
  {
   "cell_type": "code",
   "execution_count": 26,
   "metadata": {
    "execution": {
     "iopub.execute_input": "2024-09-17T01:53:10.672868Z",
     "iopub.status.busy": "2024-09-17T01:53:10.672408Z",
     "iopub.status.idle": "2024-09-17T01:53:10.717239Z",
     "shell.execute_reply": "2024-09-17T01:53:10.716425Z",
     "shell.execute_reply.started": "2024-09-17T01:53:10.672832Z"
    }
   },
   "outputs": [],
   "source": [
    "train_dataset = ImageDataset(df=train_df, img_dir=training_root, transform=tr_transform)\n",
    "val_dataset = ImageDataset(df=val_df, img_dir=training_root, transform=val_transform)\n",
    "\n",
    "train_loader = DataLoader(train_dataset, batch_size=128, shuffle=True, num_workers=4, pin_memory=True, persistent_workers=True, prefetch_factor=2)\n",
    "val_loader = DataLoader(val_dataset, batch_size=128, shuffle=False, num_workers=4, pin_memory=True)"
   ]
  },
  {
   "cell_type": "markdown",
   "metadata": {},
   "source": [
    "## CNN Architecture\n",
    "    - 4 convolutions, all with a relu activation, then a batch norm, and a max pooling layer\n",
    "    - 2 fully connected layers, with the final layer being a single neuron that has a sigmoid activation\n",
    "    \n",
    "    - The relu's will emphasis the features drwan from the convolution with high magnitude\n",
    "    - The batch norm will improve convergence speed and produce a more general model for inference\n",
    "    - The max pooling will decrease the image data size\n",
    "    - The FC layers will be provide input the the sigmoid function for output"
   ]
  },
  {
   "cell_type": "code",
   "execution_count": 27,
   "metadata": {
    "execution": {
     "iopub.execute_input": "2024-09-17T01:53:11.395291Z",
     "iopub.status.busy": "2024-09-17T01:53:11.394907Z",
     "iopub.status.idle": "2024-09-17T01:53:11.407869Z",
     "shell.execute_reply": "2024-09-17T01:53:11.406723Z",
     "shell.execute_reply.started": "2024-09-17T01:53:11.395246Z"
    }
   },
   "outputs": [],
   "source": [
    "class CNN(nn.Module):\n",
    "    def __init__(self):\n",
    "        super(CNN, self).__init__()\n",
    "\n",
    "        self.conv1 = nn.Conv2d(in_channels=3, out_channels=32, kernel_size=3, padding=1)\n",
    "        self.bn1 = nn.BatchNorm2d(32)\n",
    "        \n",
    "        self.conv2 = nn.Conv2d(in_channels=32, out_channels=64, kernel_size=3, padding=1)\n",
    "        self.bn2 = nn.BatchNorm2d(64)\n",
    "        \n",
    "        self.conv3 = nn.Conv2d(in_channels=64, out_channels=128, kernel_size=3, padding=1)\n",
    "        self.bn3 = nn.BatchNorm2d(128)\n",
    "        \n",
    "        self.conv4 = nn.Conv2d(in_channels=128, out_channels=256, kernel_size=3, padding=1)\n",
    "        self.bn4 = nn.BatchNorm2d(256)\n",
    "        \n",
    "        # Max pooling layer\n",
    "        self.pool = nn.MaxPool2d(kernel_size=2, stride=2, padding=0)\n",
    "        \n",
    "        # Fully connected layers\n",
    "        self.flatten_sz = 256 * 6 * 6\n",
    "        self.fc1 = nn.Linear(self.flatten_sz, 50)\n",
    "        self.fc2 = nn.Linear(50, 1)  \n",
    "\n",
    "    def forward(self, x):\n",
    "        x = self.pool(self.bn1(F.relu(self.conv1(x))))\n",
    "        x = self.pool(self.bn2(F.relu(self.conv2(x))))\n",
    "        x = self.pool(self.bn3(F.relu(self.conv3(x))))\n",
    "        x = self.pool(self.bn4(F.relu(self.conv4(x))))\n",
    "        \n",
    "        x = x.view(-1, self.flatten_sz)  \n",
    "        \n",
    "        x = F.relu(self.fc1(x))\n",
    "        x = torch.sigmoid(self.fc2(x))\n",
    "        \n",
    "        return x\n"
   ]
  },
  {
   "cell_type": "code",
   "execution_count": 28,
   "metadata": {
    "execution": {
     "iopub.execute_input": "2024-09-17T01:53:11.914156Z",
     "iopub.status.busy": "2024-09-17T01:53:11.913810Z",
     "iopub.status.idle": "2024-09-17T01:53:11.943494Z",
     "shell.execute_reply": "2024-09-17T01:53:11.942352Z",
     "shell.execute_reply.started": "2024-09-17T01:53:11.914130Z"
    }
   },
   "outputs": [
    {
     "name": "stdout",
     "output_type": "stream",
     "text": [
      "Using device: cuda\n"
     ]
    },
    {
     "data": {
      "text/plain": [
       "CNN(\n",
       "  (conv1): Conv2d(3, 32, kernel_size=(3, 3), stride=(1, 1), padding=(1, 1))\n",
       "  (bn1): BatchNorm2d(32, eps=1e-05, momentum=0.1, affine=True, track_running_stats=True)\n",
       "  (conv2): Conv2d(32, 64, kernel_size=(3, 3), stride=(1, 1), padding=(1, 1))\n",
       "  (bn2): BatchNorm2d(64, eps=1e-05, momentum=0.1, affine=True, track_running_stats=True)\n",
       "  (conv3): Conv2d(64, 128, kernel_size=(3, 3), stride=(1, 1), padding=(1, 1))\n",
       "  (bn3): BatchNorm2d(128, eps=1e-05, momentum=0.1, affine=True, track_running_stats=True)\n",
       "  (conv4): Conv2d(128, 256, kernel_size=(3, 3), stride=(1, 1), padding=(1, 1))\n",
       "  (bn4): BatchNorm2d(256, eps=1e-05, momentum=0.1, affine=True, track_running_stats=True)\n",
       "  (pool): MaxPool2d(kernel_size=2, stride=2, padding=0, dilation=1, ceil_mode=False)\n",
       "  (fc1): Linear(in_features=9216, out_features=50, bias=True)\n",
       "  (fc2): Linear(in_features=50, out_features=1, bias=True)\n",
       ")"
      ]
     },
     "execution_count": 28,
     "metadata": {},
     "output_type": "execute_result"
    }
   ],
   "source": [
    "cnn_model = CNN()\n",
    "\n",
    "device = torch.device(\"cuda\" if torch.cuda.is_available() else \"cpu\")\n",
    "print(f\"Using device: {device}\")\n",
    "\n",
    "cnn_model.to(device)"
   ]
  },
  {
   "cell_type": "code",
   "execution_count": 20,
   "metadata": {
    "execution": {
     "iopub.execute_input": "2024-09-17T01:45:17.362156Z",
     "iopub.status.busy": "2024-09-17T01:45:17.361764Z",
     "iopub.status.idle": "2024-09-17T01:45:31.680829Z",
     "shell.execute_reply": "2024-09-17T01:45:31.679532Z",
     "shell.execute_reply.started": "2024-09-17T01:45:17.362126Z"
    }
   },
   "outputs": [
    {
     "name": "stdout",
     "output_type": "stream",
     "text": [
      "Collecting torchsummary\n",
      "  Downloading torchsummary-1.5.1-py3-none-any.whl.metadata (296 bytes)\n",
      "Downloading torchsummary-1.5.1-py3-none-any.whl (2.8 kB)\n",
      "Installing collected packages: torchsummary\n",
      "Successfully installed torchsummary-1.5.1\n"
     ]
    }
   ],
   "source": [
    "!pip install torchsummary"
   ]
  },
  {
   "cell_type": "code",
   "execution_count": 29,
   "metadata": {
    "execution": {
     "iopub.execute_input": "2024-09-17T01:53:16.022249Z",
     "iopub.status.busy": "2024-09-17T01:53:16.021314Z",
     "iopub.status.idle": "2024-09-17T01:53:16.033593Z",
     "shell.execute_reply": "2024-09-17T01:53:16.032502Z",
     "shell.execute_reply.started": "2024-09-17T01:53:16.022215Z"
    }
   },
   "outputs": [
    {
     "name": "stdout",
     "output_type": "stream",
     "text": [
      "----------------------------------------------------------------\n",
      "        Layer (type)               Output Shape         Param #\n",
      "================================================================\n",
      "            Conv2d-1           [-1, 32, 96, 96]             896\n",
      "       BatchNorm2d-2           [-1, 32, 96, 96]              64\n",
      "         MaxPool2d-3           [-1, 32, 48, 48]               0\n",
      "            Conv2d-4           [-1, 64, 48, 48]          18,496\n",
      "       BatchNorm2d-5           [-1, 64, 48, 48]             128\n",
      "         MaxPool2d-6           [-1, 64, 24, 24]               0\n",
      "            Conv2d-7          [-1, 128, 24, 24]          73,856\n",
      "       BatchNorm2d-8          [-1, 128, 24, 24]             256\n",
      "         MaxPool2d-9          [-1, 128, 12, 12]               0\n",
      "           Conv2d-10          [-1, 256, 12, 12]         295,168\n",
      "      BatchNorm2d-11          [-1, 256, 12, 12]             512\n",
      "        MaxPool2d-12            [-1, 256, 6, 6]               0\n",
      "           Linear-13                   [-1, 50]         460,850\n",
      "           Linear-14                    [-1, 1]              51\n",
      "================================================================\n",
      "Total params: 850,277\n",
      "Trainable params: 850,277\n",
      "Non-trainable params: 0\n",
      "----------------------------------------------------------------\n",
      "Input size (MB): 0.11\n",
      "Forward/backward pass size (MB): 9.49\n",
      "Params size (MB): 3.24\n",
      "Estimated Total Size (MB): 12.84\n",
      "----------------------------------------------------------------\n"
     ]
    }
   ],
   "source": [
    "from torchsummary import summary\n",
    "\n",
    "summary(cnn_model, input_size=(3, 96,96))"
   ]
  },
  {
   "cell_type": "markdown",
   "metadata": {},
   "source": [
    "## Training Function\n",
    "    - Each epoch will conclude in accuracy score against validation set to determine whether to early stop.\n",
    "    - Early stopping set with parameters, patience and delta\n",
    "    - TQDM used to track train loss, validation loss, and validation accuracy\n",
    "    - Adam used for optimization algorithm, which has been shown to proved one of the fastest convergence times in general\n",
    "    - Binary Cross Entropy Loss used since this is a binary classification problem\n",
    "    - NOTE: .5 is set as the threshold when doing inference on this model"
   ]
  },
  {
   "cell_type": "code",
   "execution_count": 30,
   "metadata": {
    "execution": {
     "iopub.execute_input": "2024-09-17T01:53:16.642580Z",
     "iopub.status.busy": "2024-09-17T01:53:16.641881Z",
     "iopub.status.idle": "2024-09-17T01:53:16.648631Z",
     "shell.execute_reply": "2024-09-17T01:53:16.647501Z",
     "shell.execute_reply.started": "2024-09-17T01:53:16.642546Z"
    }
   },
   "outputs": [],
   "source": [
    "epochs = 10\n",
    "learning_rate = .0005\n",
    "criterion = nn.BCELoss()\n",
    "\n",
    "optimizer = optim.Adam(cnn_model.parameters(), lr=learning_rate)"
   ]
  },
  {
   "cell_type": "code",
   "execution_count": 31,
   "metadata": {
    "execution": {
     "iopub.execute_input": "2024-09-17T01:53:17.743524Z",
     "iopub.status.busy": "2024-09-17T01:53:17.742615Z",
     "iopub.status.idle": "2024-09-17T01:53:17.748265Z",
     "shell.execute_reply": "2024-09-17T01:53:17.747151Z",
     "shell.execute_reply.started": "2024-09-17T01:53:17.743490Z"
    }
   },
   "outputs": [],
   "source": [
    "from tqdm import tqdm"
   ]
  },
  {
   "cell_type": "code",
   "execution_count": 32,
   "metadata": {
    "execution": {
     "iopub.execute_input": "2024-09-17T01:53:18.332445Z",
     "iopub.status.busy": "2024-09-17T01:53:18.331669Z",
     "iopub.status.idle": "2024-09-17T01:53:18.337187Z",
     "shell.execute_reply": "2024-09-17T01:53:18.336034Z",
     "shell.execute_reply.started": "2024-09-17T01:53:18.332409Z"
    }
   },
   "outputs": [],
   "source": [
    "delta = .0075\n",
    "patience = 4\n",
    "best_val_acc = 0"
   ]
  },
  {
   "cell_type": "code",
   "execution_count": 33,
   "metadata": {
    "execution": {
     "iopub.execute_input": "2024-09-17T01:53:18.928428Z",
     "iopub.status.busy": "2024-09-17T01:53:18.927762Z",
     "iopub.status.idle": "2024-09-17T01:59:06.781240Z",
     "shell.execute_reply": "2024-09-17T01:59:06.779844Z",
     "shell.execute_reply.started": "2024-09-17T01:53:18.928391Z"
    }
   },
   "outputs": [
    {
     "name": "stderr",
     "output_type": "stream",
     "text": [
      "                                                                           \r"
     ]
    },
    {
     "name": "stdout",
     "output_type": "stream",
     "text": [
      "Epoch 1/10, Training Loss: 0.3530, Validation Loss: 0.2860, Validation Accuracy: 0.8859\n"
     ]
    },
    {
     "name": "stderr",
     "output_type": "stream",
     "text": [
      "                                                                           \r"
     ]
    },
    {
     "name": "stdout",
     "output_type": "stream",
     "text": [
      "Epoch 2/10, Training Loss: 0.2582, Validation Loss: 0.2288, Validation Accuracy: 0.9113\n"
     ]
    },
    {
     "name": "stderr",
     "output_type": "stream",
     "text": [
      "                                                                           \r"
     ]
    },
    {
     "name": "stdout",
     "output_type": "stream",
     "text": [
      "Epoch 3/10, Training Loss: 0.2220, Validation Loss: 0.2747, Validation Accuracy: 0.8938\n"
     ]
    }
   ],
   "source": [
    "for epoch in range(epochs):\n",
    "    cnn_model.train()\n",
    "    \n",
    "    running_loss = 0.0\n",
    "    \n",
    "    train_loader = tqdm(train_loader, desc=f\"Epoch {epoch+1}/{epochs}\", leave=False)\n",
    "    \n",
    "    for images, labels in train_loader:\n",
    "        images, labels = images.to(device), labels.to(device).float().unsqueeze(1)\n",
    "        \n",
    "        optimizer.zero_grad()\n",
    "        outputs = cnn_model(images)\n",
    "        \n",
    "        loss = criterion(outputs, labels)\n",
    "        loss.backward()\n",
    "        optimizer.step()\n",
    "        \n",
    "        running_loss += loss.item()\n",
    "        train_loader.set_postfix(loss=running_loss/len(train_loader))\n",
    "    \n",
    "    cnn_model.eval()\n",
    "    val_loss = 0.0\n",
    "    correct = 0\n",
    "    total = 0\n",
    "    with torch.no_grad():\n",
    "        for images, labels in val_loader:\n",
    "            images, labels = images.to(device), labels.to(device).float().unsqueeze(1)\n",
    "            outputs = cnn_model(images)\n",
    "            loss = criterion(outputs, labels)\n",
    "            val_loss += loss.item()\n",
    "            \n",
    "            predicted = (outputs > 0.5).float()\n",
    "            total += labels.size(0)\n",
    "            correct += (predicted == labels).sum().item()\n",
    "    \n",
    "    val_loss /= len(val_loader)\n",
    "    val_acc = correct / total\n",
    "    print(f\"Epoch {epoch+1}/{epochs}, Training Loss: {running_loss/len(train_loader):.4f}, Validation Loss: {val_loss:.4f}, Validation Accuracy: {val_acc:.4f}\")\n",
    "    \n",
    "    if (val_acc - best_val_acc) <= delta and (patience ):\n",
    "        break\n",
    "    elif val_acc > best_val_acc:\n",
    "        best_val_acc = val_acc\n",
    "        torch.save(cnn_model.state_dict(), '/kaggle/working/cnn_model.pth')\n"
   ]
  },
  {
   "cell_type": "markdown",
   "metadata": {},
   "source": [
    "## Submission\n",
    "    - Read in test dataframe, setup dataset, setup dataloader, and then iterate over batches\n",
    "    - set model into eval model so no gradients are calculated"
   ]
  },
  {
   "cell_type": "code",
   "execution_count": 39,
   "metadata": {
    "execution": {
     "iopub.execute_input": "2024-09-17T02:04:52.142041Z",
     "iopub.status.busy": "2024-09-17T02:04:52.141188Z",
     "iopub.status.idle": "2024-09-17T02:04:52.221480Z",
     "shell.execute_reply": "2024-09-17T02:04:52.220354Z",
     "shell.execute_reply.started": "2024-09-17T02:04:52.142006Z"
    }
   },
   "outputs": [
    {
     "data": {
      "text/html": [
       "<div>\n",
       "<style scoped>\n",
       "    .dataframe tbody tr th:only-of-type {\n",
       "        vertical-align: middle;\n",
       "    }\n",
       "\n",
       "    .dataframe tbody tr th {\n",
       "        vertical-align: top;\n",
       "    }\n",
       "\n",
       "    .dataframe thead th {\n",
       "        text-align: right;\n",
       "    }\n",
       "</style>\n",
       "<table border=\"1\" class=\"dataframe\">\n",
       "  <thead>\n",
       "    <tr style=\"text-align: right;\">\n",
       "      <th></th>\n",
       "      <th>id</th>\n",
       "      <th>label</th>\n",
       "    </tr>\n",
       "  </thead>\n",
       "  <tbody>\n",
       "    <tr>\n",
       "      <th>0</th>\n",
       "      <td>0b2ea2a822ad23fdb1b5dd26653da899fbd2c0d5</td>\n",
       "      <td>0</td>\n",
       "    </tr>\n",
       "    <tr>\n",
       "      <th>1</th>\n",
       "      <td>95596b92e5066c5c52466c90b69ff089b39f2737</td>\n",
       "      <td>0</td>\n",
       "    </tr>\n",
       "    <tr>\n",
       "      <th>2</th>\n",
       "      <td>248e6738860e2ebcf6258cdc1f32f299e0c76914</td>\n",
       "      <td>0</td>\n",
       "    </tr>\n",
       "    <tr>\n",
       "      <th>3</th>\n",
       "      <td>2c35657e312966e9294eac6841726ff3a748febf</td>\n",
       "      <td>0</td>\n",
       "    </tr>\n",
       "    <tr>\n",
       "      <th>4</th>\n",
       "      <td>145782eb7caa1c516acbe2eda34d9a3f31c41fd6</td>\n",
       "      <td>0</td>\n",
       "    </tr>\n",
       "  </tbody>\n",
       "</table>\n",
       "</div>"
      ],
      "text/plain": [
       "                                         id  label\n",
       "0  0b2ea2a822ad23fdb1b5dd26653da899fbd2c0d5      0\n",
       "1  95596b92e5066c5c52466c90b69ff089b39f2737      0\n",
       "2  248e6738860e2ebcf6258cdc1f32f299e0c76914      0\n",
       "3  2c35657e312966e9294eac6841726ff3a748febf      0\n",
       "4  145782eb7caa1c516acbe2eda34d9a3f31c41fd6      0"
      ]
     },
     "execution_count": 39,
     "metadata": {},
     "output_type": "execute_result"
    }
   ],
   "source": [
    "test_df = pd.read_csv('/kaggle/input/histopathologic-cancer-detection/sample_submission.csv')\n",
    "test_df.head(5)"
   ]
  },
  {
   "cell_type": "code",
   "execution_count": 45,
   "metadata": {
    "execution": {
     "iopub.execute_input": "2024-09-17T02:08:04.843543Z",
     "iopub.status.busy": "2024-09-17T02:08:04.843098Z",
     "iopub.status.idle": "2024-09-17T02:08:04.849493Z",
     "shell.execute_reply": "2024-09-17T02:08:04.848404Z",
     "shell.execute_reply.started": "2024-09-17T02:08:04.843510Z"
    }
   },
   "outputs": [],
   "source": [
    "test_dataset = ImageDataset(df=test_df, img_dir=\"/kaggle/input/histopathologic-cancer-detection/test\", transform=val_transform)\n",
    "test_loader = DataLoader(test_dataset, batch_size=128, shuffle=False, num_workers=4, pin_memory=True)"
   ]
  },
  {
   "cell_type": "code",
   "execution_count": 50,
   "metadata": {
    "execution": {
     "iopub.execute_input": "2024-09-17T02:30:57.212738Z",
     "iopub.status.busy": "2024-09-17T02:30:57.211896Z",
     "iopub.status.idle": "2024-09-17T02:31:33.802360Z",
     "shell.execute_reply": "2024-09-17T02:31:33.801220Z",
     "shell.execute_reply.started": "2024-09-17T02:30:57.212700Z"
    }
   },
   "outputs": [],
   "source": [
    "cnn_model.eval()\n",
    "predictions = []\n",
    "\n",
    "for images, labels in test_loader:\n",
    "    images = images.to(device)\n",
    "    outputs = cnn_model(images)\n",
    "            \n",
    "    predicted = (outputs > 0.5).float().reshape(-1)\n",
    "    predictions.extend(predicted.cpu().numpy())"
   ]
  },
  {
   "cell_type": "code",
   "execution_count": 55,
   "metadata": {
    "execution": {
     "iopub.execute_input": "2024-09-17T02:32:42.478822Z",
     "iopub.status.busy": "2024-09-17T02:32:42.478446Z",
     "iopub.status.idle": "2024-09-17T02:32:42.702393Z",
     "shell.execute_reply": "2024-09-17T02:32:42.701600Z",
     "shell.execute_reply.started": "2024-09-17T02:32:42.478793Z"
    }
   },
   "outputs": [],
   "source": [
    "test_df['label'] = predictions\n",
    "test_df.to_csv('submission.csv', index=False)"
   ]
  },
  {
   "cell_type": "code",
   "execution_count": null,
   "metadata": {},
   "outputs": [],
   "source": []
  }
 ],
 "metadata": {
  "kaggle": {
   "accelerator": "nvidiaTeslaT4",
   "dataSources": [
    {
     "databundleVersionId": 862157,
     "sourceId": 11848,
     "sourceType": "competition"
    }
   ],
   "dockerImageVersionId": 30746,
   "isGpuEnabled": true,
   "isInternetEnabled": true,
   "language": "python",
   "sourceType": "notebook"
  },
  "kernelspec": {
   "display_name": "Python 3 (ipykernel)",
   "language": "python",
   "name": "python3"
  },
  "language_info": {
   "codemirror_mode": {
    "name": "ipython",
    "version": 3
   },
   "file_extension": ".py",
   "mimetype": "text/x-python",
   "name": "python",
   "nbconvert_exporter": "python",
   "pygments_lexer": "ipython3",
   "version": "3.10.12"
  }
 },
 "nbformat": 4,
 "nbformat_minor": 4
}
